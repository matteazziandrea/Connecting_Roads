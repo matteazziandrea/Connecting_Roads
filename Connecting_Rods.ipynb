{
 "cells": [
  {
   "cell_type": "code",
   "execution_count": 13,
   "metadata": {},
   "outputs": [],
   "source": [
    "import cv2\n",
    "import numpy as np\n",
    "from matplotlib import pyplot as plt\n",
    "\n",
    "%matplotlib inline"
   ]
  },
  {
   "cell_type": "code",
   "execution_count": 14,
   "metadata": {},
   "outputs": [],
   "source": [
    "def barycenter(components, color):\n",
    "    i, j = np.where(components==color) # all row and column indexes for the corresponding component\n",
    "    area = len(i)\n",
    "    return [np.sum(i)/area, np.sum(j)/area] # barycenter\n",
    "\n",
    "def covariance(components, color):\n",
    "    i, j = np.where(components==color)\n",
    "    return np.cov(i, j, bias=True)\n",
    "\n",
    "def eigenvalues(cov): # return eigenvalues in ascending order\n",
    "    return np.linalg.eigvalsh(cov).tolist()\n",
    "\n",
    "def eigenvector(cov): # ordered respect decreasing eigenvalues, normalised eigenvectors\n",
    "    eigenval, eigenvect = np.linalg.eig(cov)\n",
    "    i = 0\n",
    "    if eigenval[i] < eigenval[i+1]:\n",
    "        return eigenvect[:, i+1], eigenvect[:, i]\n",
    "    return eigenvect[:, i], eigenvect[:, i+1]\n",
    "\n",
    "def orientation(cov):\n",
    "    eigenvect = eigenvector(cov)\n",
    "    angle = np.arccos(eigenvect[0][1])*180/np.pi\n",
    "    if angle > 90: # cos arccos returns between 0 and 180\n",
    "        return 180 - angle\n",
    "    return angle\n",
    "    \n",
    "\n",
    "def length_width(w, v): # approximation through the eigenvalues \n",
    "    return (2* (v**0.5), 2* (w**0.5))\n",
    "\n",
    "\n",
    "def barycenter_width(contour, barycenter, angle): # width at the barycenter is just to the 2 points in the contours such\n",
    "                                                  # that distance between each of them with the barycenter is minimal\n",
    "    min1 = 100\n",
    "    min2 = 100\n",
    "    i = 0\n",
    "    for cont in contour:\n",
    "        cont = cont[0]\n",
    "        dist = ((cont[1]-barycenter[0]) ** 2+ (cont[0]-barycenter[1]) ** 2) ** 0.5\n",
    "        if i % 2 == 0:\n",
    "            if dist < min1:\n",
    "                min1 = dist\n",
    "        else:\n",
    "            if dist < min2:\n",
    "                min2 = dist\n",
    "        i += 1\n",
    "        \n",
    "    return min1 + min2\n",
    "\n",
    "#cv2.CHAIN_APPROX_SIMPLE 4 connected\n",
    "#cv2.CHAIN_APPROX_NONE   8 connected"
   ]
  },
  {
   "cell_type": "code",
   "execution_count": 15,
   "metadata": {},
   "outputs": [],
   "source": [
    "def first_task(name, default=False):\n",
    "    if default:\n",
    "        img = name\n",
    "    else:\n",
    "        img = cv2.imread(name, cv2.IMREAD_GRAYSCALE)\n",
    "    filt = cv2.medianBlur(img, 3) #problem with 21 for the shadows, so i filter the image to improve the quality\n",
    "    retval, threshold = cv2.threshold(filt, 0, 255, cv2.THRESH_BINARY_INV+cv2.THRESH_OTSU) #to have an automatic threshold selection\n",
    "\n",
    "#     plt.figure(figsize=(5, 5))\n",
    "#     plt.imshow(threshold ,cmap='gray')\n",
    "#    plt.show()\n",
    "#     hist, _  =  np.histogram(img.flatten(), 256, [0,256])\n",
    "#     plt.plot(hist)\n",
    "#     plt.show()\n",
    "   \n",
    "    type_of_contours = cv2.CHAIN_APPROX_NONE\n",
    "    contours, _ = cv2.findContours(threshold,cv2.RETR_TREE, type_of_contours)\n",
    "\n",
    "#     im = np.copy(threshold)\n",
    "#     cv2.drawContours(im, contours, -1, color=127, thickness=2)\n",
    "#     plt.figure(figsize=(5, 5))\n",
    "#     plt.imshow(im, cmap='gray')\n",
    "#     plt.show()     \n",
    "  \n",
    "    d=dict() #key are the pointer to the principal components in contours, while values principal components and its holes\n",
    "    blob = list()\n",
    "    rateo = 3\n",
    "    mod = len(contours[0])\n",
    "    i = 0\n",
    "    z = 0\n",
    "    for contour in contours:\n",
    "        perim = len(contour)\n",
    "        if perim >= mod/rateo:\n",
    "            d[i] = (perim, )\n",
    "            mod = perim\n",
    "            z = i\n",
    "            blob.append(z)\n",
    "        else:\n",
    "            d[z] += ((perim, ))\n",
    "        i += 1\n",
    "        \n",
    "    components = np.copy(threshold)\n",
    "    mul = 1\n",
    "    for index in range(len(contours)):\n",
    "        if index in blob:\n",
    "            cv2.drawContours(components, contours=contours, contourIdx=index, color=255-mul*30-index*10, thickness=cv2.FILLED)\n",
    "            mul += 1\n",
    "        else:\n",
    "            cv2.drawContours(components, contours=contours, contourIdx=index, color=0, thickness=cv2.FILLED)\n",
    "\n",
    "    mul = 1\n",
    "    for index in range(len(contours)):\n",
    "        s = 'A'\n",
    "        color = 255-mul*30-index*10\n",
    "        if index in blob:\n",
    "            if len(d[index])-1 == 2:\n",
    "                s = 'B'\n",
    "            print('---------------------------------------------------------------------------')\n",
    "            print('-The figure with number of grayscale '+str(color)+' is of type '+s)\n",
    "            cov = covariance(components, color)\n",
    "            w, v = eigenvalues(cov)\n",
    "            length, width = length_width(w, v)\n",
    "            orient = orientation(cov)\n",
    "            barycent = barycenter(components, color)\n",
    "            barycent_width = barycenter_width(contours[index], barycent, orient)\n",
    "            print('It has:')\n",
    "            print()\n",
    "            print('Length = ' + str(length))\n",
    "            print('Width = ' + str(width))\n",
    "            print('Width at the barycenter = ' + str(barycent_width))\n",
    "            print('Orientation = ' + str(orient))\n",
    "            mul+=1\n",
    "        else:\n",
    "            print()\n",
    "            diameter = len(contours[index]) / np.pi\n",
    "            comp_copy = np.copy(components)\n",
    "            cv2.drawContours(comp_copy, contours=contours, contourIdx=index, color=10, thickness=cv2.FILLED)\n",
    "            center = barycenter(comp_copy, 10)\n",
    "            print('Its hole of diameter ' + str(diameter) + ' has the center in ' + str(center))\n",
    "    \n",
    "    print('---------------------------------------------------------------------------')\n",
    "    plt.figure(figsize=(5, 5))\n",
    "    plt.imshow(components, cmap='gray')\n",
    "    plt.show()"
   ]
  },
  {
   "cell_type": "code",
   "execution_count": 21,
   "metadata": {},
   "outputs": [],
   "source": [
    "def second_task(name): # The inspection area may be dirty due to the presence of scattered iron powder\n",
    "    source = cv2.imread(name, cv2.IMREAD_GRAYSCALE)\n",
    "    filt = cv2.medianBlur(source, 3)\n",
    "    for i in range(2):\n",
    "        filt = cv2.medianBlur(filt, 3)\n",
    "\n",
    "#     plt.figure(figsize=(10, 10))\n",
    "#     plt.subplot(1, 2, 1)\n",
    "#     plt.imshow(source,cmap='gray')\n",
    "#     plt.subplot(1, 2, 2)\n",
    "#     plt.imshow(filt, cmap='gray')\n",
    "#     plt.show()\n",
    "#     hist, _  = np.histogram(filt.flatten(), 256, [0,256])\n",
    "#     plt.plot(hist)\n",
    "#     plt.show()\n",
    "   \n",
    "    first_task(filt, True)"
   ]
  },
  {
   "cell_type": "code",
   "execution_count": 18,
   "metadata": {
    "scrolled": false
   },
   "outputs": [
    {
     "name": "stdout",
     "output_type": "stream",
     "text": [
      "---------------------------------------------------------------------------\n",
      "-The figure with number of grayscale 225 is of type A\n",
      "It has:\n",
      "\n",
      "Length = 108.03427851959842\n",
      "Width = 15.189303307344069\n",
      "Width at the barycenter = 13.859096519176742\n",
      "Orientation = 85.98712967033767\n",
      "\n",
      "Its hole of diameter 21.008452488130185 has the center in [199.94026548672565, 50.966814159292035]\n",
      "---------------------------------------------------------------------------\n",
      "-The figure with number of grayscale 175 is of type B\n",
      "It has:\n",
      "\n",
      "Length = 62.46022284142597\n",
      "Width = 11.43022463687169\n",
      "Width at the barycenter = 12.978068633115829\n",
      "Orientation = 83.47958970348152\n",
      "\n",
      "Its hole of diameter 22.91831180523293 has the center in [158.97378277153558, 109.95880149812734]\n",
      "\n",
      "Its hole of diameter 19.735212943395023 has the center in [60.363861386138616, 121.13613861386139]\n",
      "---------------------------------------------------------------------------\n",
      "-The figure with number of grayscale 115 is of type A\n",
      "It has:\n",
      "\n",
      "Length = 102.34820970495666\n",
      "Width = 16.037531652470424\n",
      "Width at the barycenter = 14.65724157133848\n",
      "Orientation = 66.82081687541613\n",
      "\n",
      "Its hole of diameter 21.008452488130185 has the center in [68.73230088495575, 179.0066371681416]\n",
      "---------------------------------------------------------------------------\n"
     ]
    },
    {
     "data": {
      "image/png": "[encoded data removed]",
      "text/plain": [
       "<Figure size 360x360 with 1 Axes>"
      ]
     },
     "metadata": {
      "needs_background": "light"
     },
     "output_type": "display_data"
    }
   ],
   "source": [
    "name1 = '/images/TESI00.BMP'\n",
    "first_task(name1)"
   ]
  },
  {
   "cell_type": "code",
   "execution_count": 19,
   "metadata": {
    "scrolled": false
   },
   "outputs": [
    {
     "name": "stdout",
     "output_type": "stream",
     "text": [
      "---------------------------------------------------------------------------\n",
      "-The figure with number of grayscale 225 is of type B\n",
      "It has:\n",
      "\n",
      "Length = 61.37366656364926\n",
      "Width = 14.460593626073107\n",
      "Width at the barycenter = 15.892377261698597\n",
      "Orientation = 51.88077465650016\n",
      "\n",
      "Its hole of diameter 21.326762374313976 has the center in [184.68134171907758, 113.79035639412997]\n",
      "\n",
      "Its hole of diameter 24.50986123615188 has the center in [109.66499162479062, 54.17922948073702]\n",
      "---------------------------------------------------------------------------\n",
      "-The figure with number of grayscale 165 is of type A\n",
      "It has:\n",
      "\n",
      "Length = 101.12553613197625\n",
      "Width = 19.42899776477127\n",
      "Width at the barycenter = 18.316781260509615\n",
      "Orientation = 45.10926928330462\n",
      "\n",
      "Its hole of diameter 22.91831180523293 has the center in [74.87174721189591, 121.09851301115242]\n",
      "---------------------------------------------------------------------------\n"
     ]
    },
    {
     "data": {
      "image/png": "[encoded data removed]",
      "text/plain": [
       "<Figure size 360x360 with 1 Axes>"
      ]
     },
     "metadata": {
      "needs_background": "light"
     },
     "output_type": "display_data"
    }
   ],
   "source": [
    "name2 = '.images//TESI90.BMP'\n",
    "second_task(name2)"
   ]
  }
 ],
 "metadata": {
  "kernelspec": {
   "display_name": "Python 3",
   "language": "python",
   "name": "python3"
  },
  "language_info": {
   "codemirror_mode": {
    "name": "ipython",
    "version": 3
   },
   "file_extension": ".py",
   "mimetype": "text/x-python",
   "name": "python",
   "nbconvert_exporter": "python",
   "pygments_lexer": "ipython3",
   "version": "3.9.2"
  }
 },
 "nbformat": 4,
 "nbformat_minor": 2
}
